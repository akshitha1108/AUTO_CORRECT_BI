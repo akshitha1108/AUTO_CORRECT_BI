{
 "cells": [
  {
   "cell_type": "code",
   "execution_count": 1,
   "id": "776db506-9118-4167-bff4-1b01cc54042e",
   "metadata": {},
   "outputs": [],
   "source": [
    "import difflib\n",
    "import nltk"
   ]
  },
  {
   "cell_type": "code",
   "execution_count": 2,
   "id": "fce81fd8-b2fb-495b-a042-8de77240710c",
   "metadata": {},
   "outputs": [
    {
     "name": "stderr",
     "output_type": "stream",
     "text": [
      "[nltk_data] Downloading package words to\n",
      "[nltk_data]     C:\\Users\\dell\\AppData\\Roaming\\nltk_data...\n",
      "[nltk_data]   Unzipping corpora\\words.zip.\n"
     ]
    }
   ],
   "source": [
    "nltk.download('words')\n",
    "from nltk.corpus import words\n"
   ]
  },
  {
   "cell_type": "code",
   "execution_count": 3,
   "id": "9f436b2b-172a-412a-9aa8-b1ab2246cbcd",
   "metadata": {},
   "outputs": [],
   "source": [
    "class AutoCorrect:\n",
    "    def __init__(self, word_list):\n",
    "        self.word_list = word_list\n",
    "    \n",
    "    def correct_word(self, word):\n",
    "        word = word.lower()\n",
    "        closest_word = difflib.get_close_matches(word, self.word_list, n=1)\n",
    "        if closest_word:\n",
    "            return closest_word[0]\n",
    "        else:\n",
    "            return \"No suggestion found.\""
   ]
  },
  {
   "cell_type": "code",
   "execution_count": 12,
   "id": "9a2e4356-e9c6-43ac-96fc-7bcd408039a6",
   "metadata": {},
   "outputs": [
    {
     "name": "stdin",
     "output_type": "stream",
     "text": [
      "Enter a word to be corrected:  intership\n"
     ]
    },
    {
     "name": "stdout",
     "output_type": "stream",
     "text": [
      "Original word: intership\n",
      "Corrected word: internship\n"
     ]
    }
   ],
   "source": [
    "# Load the standard English word list from nltk\n",
    "word_list = set(words.words())\n",
    "\n",
    "# Initialize the AutoCorrect object with the word list\n",
    "auto_correct = AutoCorrect(word_list)\n",
    "\n",
    "# Take user input for the word to be corrected\n",
    "user_input = input(\"Enter a word to be corrected: \")\n",
    "\n",
    "# Correct the word\n",
    "corrected_word = auto_correct.correct_word(user_input)\n",
    "\n",
    "print(f\"Original word: {user_input}\")\n",
    "print(f\"Corrected word: {corrected_word}\")"
   ]
  },
  {
   "cell_type": "code",
   "execution_count": null,
   "id": "682e03f3-a862-4fc4-b3e2-af1faf1c9557",
   "metadata": {},
   "outputs": [],
   "source": []
  }
 ],
 "metadata": {
  "kernelspec": {
   "display_name": "Python 3 (ipykernel)",
   "language": "python",
   "name": "python3"
  },
  "language_info": {
   "codemirror_mode": {
    "name": "ipython",
    "version": 3
   },
   "file_extension": ".py",
   "mimetype": "text/x-python",
   "name": "python",
   "nbconvert_exporter": "python",
   "pygments_lexer": "ipython3",
   "version": "3.10.10"
  }
 },
 "nbformat": 4,
 "nbformat_minor": 5
}
